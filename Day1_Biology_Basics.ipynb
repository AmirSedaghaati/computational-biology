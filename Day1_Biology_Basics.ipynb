{
  "nbformat": 4,
  "nbformat_minor": 0,
  "metadata": {
    "colab": {
      "provenance": [],
      "authorship_tag": "ABX9TyNlmmsulAiKZcOA5EDRoK29",
      "include_colab_link": true
    },
    "kernelspec": {
      "name": "python3",
      "display_name": "Python 3"
    },
    "language_info": {
      "name": "python"
    }
  },
  "cells": [
    {
      "cell_type": "markdown",
      "metadata": {
        "id": "view-in-github",
        "colab_type": "text"
      },
      "source": [
        "<a href=\"https://colab.research.google.com/github/AmirSedaghaati/computational-biology/blob/main/Day1_Biology_Basics.ipynb\" target=\"_parent\"><img src=\"https://colab.research.google.com/assets/colab-badge.svg\" alt=\"Open In Colab\"/></a>"
      ]
    },
    {
      "cell_type": "code",
      "execution_count": 6,
      "metadata": {
        "colab": {
          "base_uri": "https://localhost:8080/"
        },
        "id": "8WdTGF5G5XYb",
        "outputId": "eec4cfcd-ae7d-4957-9e9d-91455ba3f9e6"
      },
      "outputs": [
        {
          "output_type": "stream",
          "name": "stdout",
          "text": [
            "🧬 Welcome to Computational Biology!\n",
            "Today I'm starting my journey from biochemist to computational biologist\n",
            "\n",
            "Analyzing: Example Protein\n",
            "DNA sequence: ATGCGTACGTTAG\n",
            "Molecular weight: 50000 Da\n",
            "Sequence length: 13\n"
          ]
        }
      ],
      "source": [
        "# Day 1: My First Computational Biology Code\n",
        "# Date: March 25, 2024\n",
        "# Goal: Learn basic Python for biological data\n",
        "\n",
        "print(\"🧬 Welcome to Computational Biology!\")\n",
        "print(\"Today I'm starting my journey from biochemist to computational biologist\")\n",
        "\n",
        "# Define the variables\n",
        "protein_name = \"Example Protein\"\n",
        "dna_sequence = \"ATGCGTACGTTAG\"\n",
        "molecular_weight = 50000  # Example molecular weight in Daltons\n",
        "sequence = dna_sequence  # Assuming sequence refers to the DNA sequence\n",
        "\n",
        "# Print the information\n",
        "print(f\"\\nAnalyzing: {protein_name}\")\n",
        "print(f\"DNA sequence: {dna_sequence}\")\n",
        "print(f\"Molecular weight: {molecular_weight} Da\")\n",
        "print(f\"Sequence length: {len(sequence)}\")\n",
        "\n"
      ]
    },
    {
      "cell_type": "code",
      "source": [
        "# Task 4: Building a DNA Analysis Calculator\n",
        "print(\"=\" * 50)\n",
        "print(\"DNA SEQUENCE ANALYZER v1.0\")\n",
        "print(\"=\" * 50)\n",
        "\n",
        "def analyze_dna_sequence(dna_seq):\n",
        "    \"\"\"\n",
        "    Analyze a DNA sequence and return basic statistics\n",
        "    This is my first biological function!\n",
        "    \"\"\"\n",
        "    # Convert to uppercase to handle different cases\n",
        "    dna_seq = dna_seq.upper()\n",
        "\n",
        "    # Count each nucleotide\n",
        "    count_A = dna_seq.count('A')\n",
        "    count_T = dna_seq.count('T')\n",
        "    count_G = dna_seq.count('G')\n",
        "    count_C = dna_seq.count('C')\n",
        "\n",
        "    # Calculate total length\n",
        "    total_length = len(dna_seq)\n",
        "\n",
        "    # Calculate GC content (important in biology!)\n",
        "    gc_content = (count_G + count_C) / total_length * 100\n",
        "\n",
        "    # Display results\n",
        "    print(f\"Sequence: {dna_seq}\")\n",
        "    print(f\"Length: {total_length} bp\")\n",
        "    print(\"\\nNucleotide Composition:\")\n",
        "    print(f\"  A (Adenine):  {count_A:3d} ({count_A/total_length*100:5.1f}%)\")\n",
        "    print(f\"  T (Thymine):  {count_T:3d} ({count_T/total_length*100:5.1f}%)\")\n",
        "    print(f\"  G (Guanine):  {count_G:3d} ({count_G/total_length*100:5.1f}%)\")\n",
        "    print(f\"  C (Cytosine): {count_C:3d} ({count_C/total_length*100:5.1f}%)\")\n",
        "    print(f\"\\nGC Content: {gc_content:.1f}%\")\n",
        "\n",
        "    # Return results for further use\n",
        "    return {\n",
        "        'length': total_length,\n",
        "        'A': count_A, 'T': count_T, 'G': count_G, 'C': count_C,\n",
        "        'gc_content': gc_content\n",
        "    }\n",
        "\n",
        "# Test with some real biological sequences\n",
        "print(\"Testing with a sample gene sequence:\")\n",
        "test_sequence = \"ATGAAGTGCAACCTGCTGGTGCTGTTCCTGGGGCTCTTCCTGTTCGCCTTC\"\n",
        "results = analyze_dna_sequence(test_sequence)"
      ],
      "metadata": {
        "colab": {
          "base_uri": "https://localhost:8080/"
        },
        "id": "fxelrVSZCo1x",
        "outputId": "4d397449-b5fa-4d1e-bb5d-d47e1e719e0a"
      },
      "execution_count": 7,
      "outputs": [
        {
          "output_type": "stream",
          "name": "stdout",
          "text": [
            "==================================================\n",
            "DNA SEQUENCE ANALYZER v1.0\n",
            "==================================================\n",
            "Testing with a sample gene sequence:\n",
            "Sequence: ATGAAGTGCAACCTGCTGGTGCTGTTCCTGGGGCTCTTCCTGTTCGCCTTC\n",
            "Length: 51 bp\n",
            "\n",
            "Nucleotide Composition:\n",
            "  A (Adenine):    5 (  9.8%)\n",
            "  T (Thymine):   17 ( 33.3%)\n",
            "  G (Guanine):   14 ( 27.5%)\n",
            "  C (Cytosine):  15 ( 29.4%)\n",
            "\n",
            "GC Content: 56.9%\n"
          ]
        }
      ]
    },
    {
      "cell_type": "code",
      "source": [
        "# Task 5: Experimenting with Different Sequences\n",
        "print(\"\\n\" + \"=\"*60)\n",
        "print(\"EXPERIMENTING WITH DIFFERENT DNA SEQUENCES\")\n",
        "print(\"=\"*60)\n",
        "\n",
        "# High GC content sequence (from a bacterial gene)\n",
        "high_gc = \"GCGCGCGCGCGCATGCGCGCGC\"\n",
        "print(\"\\n1. High GC Content Sequence:\")\n",
        "analyze_dna_sequence(high_gc)\n",
        "\n",
        "# Low GC content sequence (from AT-rich region)\n",
        "low_gc = \"ATATATATATATATATATATATAT\"\n",
        "print(\"\\n2. Low GC Content Sequence:\")\n",
        "analyze_dna_sequence(low_gc)\n",
        "\n",
        "# Mixed sequence (more realistic)\n",
        "mixed = \"ATGCGTACGTAGCTTGAACCTGGCAATGC\"\n",
        "print(\"\\n3. Mixed Sequence:\")\n",
        "analyze_dna_sequence(mixed)\n",
        "\n",
        "print(\"\\n📝 OBSERVATIONS:\")\n",
        "print(\"- High GC sequences are often found in bacterial genomes\")\n",
        "print(\"- Low GC (AT-rich) regions often contain regulatory elements\")\n",
        "print(\"- GC content affects DNA melting temperature!\")"
      ],
      "metadata": {
        "colab": {
          "base_uri": "https://localhost:8080/"
        },
        "id": "25jgwjpHC3Ua",
        "outputId": "51961a4f-9409-40bd-edf0-1dda8a0318d2"
      },
      "execution_count": 8,
      "outputs": [
        {
          "output_type": "stream",
          "name": "stdout",
          "text": [
            "\n",
            "============================================================\n",
            "EXPERIMENTING WITH DIFFERENT DNA SEQUENCES\n",
            "============================================================\n",
            "\n",
            "1. High GC Content Sequence:\n",
            "Sequence: GCGCGCGCGCGCATGCGCGCGC\n",
            "Length: 22 bp\n",
            "\n",
            "Nucleotide Composition:\n",
            "  A (Adenine):    1 (  4.5%)\n",
            "  T (Thymine):    1 (  4.5%)\n",
            "  G (Guanine):   10 ( 45.5%)\n",
            "  C (Cytosine):  10 ( 45.5%)\n",
            "\n",
            "GC Content: 90.9%\n",
            "\n",
            "2. Low GC Content Sequence:\n",
            "Sequence: ATATATATATATATATATATATAT\n",
            "Length: 24 bp\n",
            "\n",
            "Nucleotide Composition:\n",
            "  A (Adenine):   12 ( 50.0%)\n",
            "  T (Thymine):   12 ( 50.0%)\n",
            "  G (Guanine):    0 (  0.0%)\n",
            "  C (Cytosine):   0 (  0.0%)\n",
            "\n",
            "GC Content: 0.0%\n",
            "\n",
            "3. Mixed Sequence:\n",
            "Sequence: ATGCGTACGTAGCTTGAACCTGGCAATGC\n",
            "Length: 29 bp\n",
            "\n",
            "Nucleotide Composition:\n",
            "  A (Adenine):    7 ( 24.1%)\n",
            "  T (Thymine):    7 ( 24.1%)\n",
            "  G (Guanine):    8 ( 27.6%)\n",
            "  C (Cytosine):   7 ( 24.1%)\n",
            "\n",
            "GC Content: 51.7%\n",
            "\n",
            "📝 OBSERVATIONS:\n",
            "- High GC sequences are often found in bacterial genomes\n",
            "- Low GC (AT-rich) regions often contain regulatory elements\n",
            "- GC content affects DNA melting temperature!\n"
          ]
        }
      ]
    }
  ]
}