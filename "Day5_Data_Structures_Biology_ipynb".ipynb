{
  "nbformat": 4,
  "nbformat_minor": 0,
  "metadata": {
    "colab": {
      "provenance": [],
      "authorship_tag": "ABX9TyM60om139Yq56vzQaoNoOfL",
      "include_colab_link": true
    },
    "kernelspec": {
      "name": "python3",
      "display_name": "Python 3"
    },
    "language_info": {
      "name": "python"
    }
  },
  "cells": [
    {
      "cell_type": "markdown",
      "metadata": {
        "id": "view-in-github",
        "colab_type": "text"
      },
      "source": [
        "<a href=\"https://colab.research.google.com/github/AmirSedaghaati/computational-biology/blob/main/%22Day5_Data_Structures_Biology_ipynb%22.ipynb\" target=\"_parent\"><img src=\"https://colab.research.google.com/assets/colab-badge.svg\" alt=\"Open In Colab\"/></a>"
      ]
    },
    {
      "cell_type": "code",
      "source": [
        "# Working with multiple DNA sequences - using lists\n",
        "print(\"Learning to handle multiple sequences with lists\")\n",
        "\n",
        "# I'll create a list of gene sequences I want to analyze\n",
        "gene_sequences = [\n",
        "    \"ATGAAGTGCAACCTGCTGGTG\",  # this looks like insulin\n",
        "    \"GCTAGCTAGCTAGCTAGCTAG\",  # some repetitive sequence\n",
        "    \"ATGCGATCGTAGCTTAAGGC\",   # random sequence\n",
        "    \"TTTTTTTTTTTTTTTTTTTT\"    # poly-T sequence\n",
        "]\n",
        "\n",
        "print(\"I have\", len(gene_sequences), \"sequences to analyze\")\n",
        "\n",
        "# Let me try to analyze each one\n",
        "for i in range(len(gene_sequences)):\n",
        "    sequence = gene_sequences[i]\n",
        "    print(f\"\\nSequence {i+1}: {sequence}\")\n",
        "\n",
        "    # basic analysis - I'll calculate length and GC content\n",
        "    length = len(sequence)\n",
        "    g_count = sequence.count('G')\n",
        "    c_count = sequence.count('C')\n",
        "    gc_content = (g_count + c_count) / length * 100\n",
        "\n",
        "    print(f\"  Length: {length} bp\")\n",
        "    print(f\"  GC content: {gc_content:.1f}%\")\n",
        "\n",
        "    # check if it starts with ATG (start codon)\n",
        "    if sequence.startswith('ATG'):\n",
        "        print(\"  This sequence starts with ATG - might be a gene!\")\n",
        "    else:\n",
        "        print(\"  No ATG start codon found\")"
      ],
      "metadata": {
        "colab": {
          "base_uri": "https://localhost:8080/"
        },
        "id": "iw0az6vVFuxd",
        "outputId": "b5edb533-f95c-4d60-bb41-fe9ef0a0a045"
      },
      "execution_count": 2,
      "outputs": [
        {
          "output_type": "stream",
          "name": "stdout",
          "text": [
            "Learning to handle multiple sequences with lists\n",
            "I have 4 sequences to analyze\n",
            "\n",
            "Sequence 1: ATGAAGTGCAACCTGCTGGTG\n",
            "  Length: 21 bp\n",
            "  GC content: 52.4%\n",
            "  This sequence starts with ATG - might be a gene!\n",
            "\n",
            "Sequence 2: GCTAGCTAGCTAGCTAGCTAG\n",
            "  Length: 21 bp\n",
            "  GC content: 52.4%\n",
            "  No ATG start codon found\n",
            "\n",
            "Sequence 3: ATGCGATCGTAGCTTAAGGC\n",
            "  Length: 20 bp\n",
            "  GC content: 50.0%\n",
            "  This sequence starts with ATG - might be a gene!\n",
            "\n",
            "Sequence 4: TTTTTTTTTTTTTTTTTTTT\n",
            "  Length: 20 bp\n",
            "  GC content: 0.0%\n",
            "  No ATG start codon found\n"
          ]
        }
      ]
    },
    {
      "cell_type": "code",
      "source": [
        "# Learning to use dictionaries for better data organization\n",
        "print(\"Using dictionaries to organize biological information better\")\n",
        "\n",
        "# I think dictionaries will help me keep track of more information\n",
        "# Let me create a dictionary for each sequence\n",
        "\n",
        "sequence_data = {}  # empty dictionary to start\n",
        "\n",
        "# I'll add sequences one by one and learn how dictionaries work\n",
        "sequence_data[\"insulin\"] = {\n",
        "    \"sequence\": \"ATGAAGTGCAACCTGCTGGTG\",\n",
        "    \"organism\": \"human\",\n",
        "    \"chromosome\": \"11\",\n",
        "    \"function\": \"hormone\"\n",
        "}\n",
        "\n",
        "sequence_data[\"hemoglobin\"] = {\n",
        "    \"sequence\": \"ATGGTGCTGTCTCCTGCCGAC\",\n",
        "    \"organism\": \"human\",\n",
        "    \"chromosome\": \"16\",\n",
        "    \"function\": \"oxygen_transport\"\n",
        "}\n",
        "\n",
        "# let me see what's in my dictionary\n",
        "print(\"My sequence database contains:\")\n",
        "for gene_name in sequence_data:\n",
        "    info = sequence_data[gene_name]\n",
        "    print(f\"\\n{gene_name}:\")\n",
        "    print(f\"  Sequence: {info['sequence']}\")\n",
        "    print(f\"  Organism: {info['organism']}\")\n",
        "    print(f\"  Chromosome: {info['chromosome']}\")\n",
        "    print(f\"  Function: {info['function']}\")"
      ],
      "metadata": {
        "colab": {
          "base_uri": "https://localhost:8080/"
        },
        "id": "X7EQKQV1GBQB",
        "outputId": "bd898cf4-caa3-40ee-8187-5433e64c7c89"
      },
      "execution_count": 3,
      "outputs": [
        {
          "output_type": "stream",
          "name": "stdout",
          "text": [
            "Using dictionaries to organize biological information better\n",
            "My sequence database contains:\n",
            "\n",
            "insulin:\n",
            "  Sequence: ATGAAGTGCAACCTGCTGGTG\n",
            "  Organism: human\n",
            "  Chromosome: 11\n",
            "  Function: hormone\n",
            "\n",
            "hemoglobin:\n",
            "  Sequence: ATGGTGCTGTCTCCTGCCGAC\n",
            "  Organism: human\n",
            "  Chromosome: 16\n",
            "  Function: oxygen_transport\n"
          ]
        }
      ]
    },
    {
      "cell_type": "code",
      "source": [
        "# Now I want to add analysis results to my dictionary\n",
        "print(\"\\nAdding analysis results to my sequence database:\")\n",
        "\n",
        "for gene_name in sequence_data:\n",
        "    sequence = sequence_data[gene_name][\"sequence\"]\n",
        "\n",
        "    # calculate basic stats\n",
        "    length = len(sequence)\n",
        "    gc_content = (sequence.count('G') + sequence.count('C')) / length * 100\n",
        "\n",
        "    # add these to my dictionary\n",
        "    sequence_data[gene_name][\"length\"] = length\n",
        "    sequence_data[gene_name][\"gc_content\"] = gc_content\n",
        "\n",
        "    # check for start codon\n",
        "    has_start_codon = sequence.startswith('ATG')\n",
        "    sequence_data[gene_name][\"has_start_codon\"] = has_start_codon\n",
        "\n",
        "    print(f\"{gene_name}: {length} bp, GC={gc_content:.1f}%, Start codon: {has_start_codon}\")"
      ],
      "metadata": {
        "colab": {
          "base_uri": "https://localhost:8080/"
        },
        "id": "oaBJUoQmGFOz",
        "outputId": "c30d1b64-d608-4b79-c8e8-cbe805aca6c1"
      },
      "execution_count": 4,
      "outputs": [
        {
          "output_type": "stream",
          "name": "stdout",
          "text": [
            "\n",
            "Adding analysis results to my sequence database:\n",
            "insulin: 21 bp, GC=52.4%, Start codon: True\n",
            "hemoglobin: 21 bp, GC=61.9%, Start codon: True\n"
          ]
        }
      ]
    },
    {
      "cell_type": "code",
      "source": [
        "# Let me try to find patterns in my data using dictionary methods\n",
        "print(\"\\nLooking for patterns in my sequence data:\")\n",
        "\n",
        "# I want to find all sequences with high GC content\n",
        "high_gc_genes = []\n",
        "for gene_name in sequence_data:\n",
        "    if sequence_data[gene_name][\"gc_content\"] > 50:\n",
        "        high_gc_genes.append(gene_name)\n",
        "\n",
        "print(\"Genes with high GC content:\", high_gc_genes)\n",
        "\n",
        "# find all genes on chromosome 11\n",
        "chr11_genes = []\n",
        "for gene_name in sequence_data:\n",
        "    if sequence_data[gene_name][\"chromosome\"] == \"11\":\n",
        "        chr11_genes.append(gene_name)\n",
        "\n",
        "print(\"Genes on chromosome 11:\", chr11_genes)\n",
        "\n",
        "# I want to see which organisms I have data for\n",
        "organisms = []\n",
        "for gene_name in sequence_data:\n",
        "    organism = sequence_data[gene_name][\"organism\"]\n",
        "    if organism not in organisms:  # avoid duplicates\n",
        "        organisms.append(organism)\n",
        "\n",
        "print(\"Organisms in my database:\", organisms)"
      ],
      "metadata": {
        "colab": {
          "base_uri": "https://localhost:8080/"
        },
        "id": "n6Z3PkSaGHn7",
        "outputId": "918515b4-57f8-47e2-cd94-612e85b3dd36"
      },
      "execution_count": 5,
      "outputs": [
        {
          "output_type": "stream",
          "name": "stdout",
          "text": [
            "\n",
            "Looking for patterns in my sequence data:\n",
            "Genes with high GC content: ['insulin', 'hemoglobin']\n",
            "Genes on chromosome 11: ['insulin']\n",
            "Organisms in my database: ['human']\n"
          ]
        }
      ]
    },
    {
      "cell_type": "code",
      "source": [
        "# Let me try to find patterns in my data using dictionary methods\n",
        "print(\"\\nLooking for patterns in my sequence data:\")\n",
        "\n",
        "# I want to find all sequences with high GC content\n",
        "high_gc_genes = []\n",
        "for gene_name in sequence_data:\n",
        "    if sequence_data[gene_name][\"gc_content\"] > 50:\n",
        "        high_gc_genes.append(gene_name)\n",
        "\n",
        "print(\"Genes with high GC content:\", high_gc_genes)\n",
        "\n",
        "# find all genes on chromosome 11\n",
        "chr11_genes = []\n",
        "for gene_name in sequence_data:\n",
        "    if sequence_data[gene_name][\"chromosome\"] == \"11\":\n",
        "        chr11_genes.append(gene_name)\n",
        "\n",
        "print(\"Genes on chromosome 11:\", chr11_genes)\n",
        "\n",
        "# I want to see which organisms I have data for\n",
        "organisms = []\n",
        "for gene_name in sequence_data:\n",
        "    organism = sequence_data[gene_name][\"organism\"]\n",
        "    if organism not in organisms:  # avoid duplicates\n",
        "        organisms.append(organism)\n",
        "\n",
        "print(\"Organisms in my database:\", organisms)"
      ],
      "metadata": {
        "colab": {
          "base_uri": "https://localhost:8080/"
        },
        "id": "LkuebusqGKzf",
        "outputId": "38011c2b-535e-46dd-fee6-bacba1286406"
      },
      "execution_count": 6,
      "outputs": [
        {
          "output_type": "stream",
          "name": "stdout",
          "text": [
            "\n",
            "Looking for patterns in my sequence data:\n",
            "Genes with high GC content: ['insulin', 'hemoglobin']\n",
            "Genes on chromosome 11: ['insulin']\n",
            "Organisms in my database: ['human']\n"
          ]
        }
      ]
    },
    {
      "cell_type": "code",
      "source": [
        "# Now I want to analyze my whole database\n",
        "print(\"\\nAnalyzing my complete gene database:\")\n",
        "\n",
        "# find the longest gene\n",
        "longest_gene = \"\"\n",
        "longest_length = 0\n",
        "\n",
        "for gene_name in gene_database:\n",
        "    length = gene_database[gene_name][\"length\"]\n",
        "    if length > longest_length:\n",
        "        longest_length = length\n",
        "        longest_gene = gene_name\n",
        "\n",
        "print(f\"Longest gene: {longest_gene} ({longest_length} bp)\")\n",
        "\n",
        "# calculate average GC content\n",
        "total_gc = 0\n",
        "gene_count = 0\n",
        "for gene_name in gene_database:\n",
        "    total_gc += gene_database[gene_name][\"gc_content\"]\n",
        "    gene_count += 1\n",
        "\n",
        "average_gc = total_gc / gene_count\n",
        "print(f\"Average GC content: {average_gc:.1f}%\")\n",
        "\n",
        "# count how many have start codons\n",
        "genes_with_start = 0\n",
        "for gene_name in gene_database:\n",
        "    if gene_database[gene_name][\"has_start_codon\"]:\n",
        "        genes_with_start += 1\n",
        "\n",
        "print(f\"Genes with start codons: {genes_with_start} out of {gene_count}\")"
      ],
      "metadata": {
        "colab": {
          "base_uri": "https://localhost:8080/",
          "height": 251
        },
        "id": "c9lVpmBwGNhr",
        "outputId": "7c63c7e1-1d61-44da-d670-0432fd0462e4"
      },
      "execution_count": 7,
      "outputs": [
        {
          "output_type": "stream",
          "name": "stdout",
          "text": [
            "\n",
            "Analyzing my complete gene database:\n"
          ]
        },
        {
          "output_type": "error",
          "ename": "NameError",
          "evalue": "name 'gene_database' is not defined",
          "traceback": [
            "\u001b[0;31m---------------------------------------------------------------------------\u001b[0m",
            "\u001b[0;31mNameError\u001b[0m                                 Traceback (most recent call last)",
            "\u001b[0;32m/tmp/ipython-input-7-391494644.py\u001b[0m in \u001b[0;36m<cell line: 0>\u001b[0;34m()\u001b[0m\n\u001b[1;32m      6\u001b[0m \u001b[0mlongest_length\u001b[0m \u001b[0;34m=\u001b[0m \u001b[0;36m0\u001b[0m\u001b[0;34m\u001b[0m\u001b[0;34m\u001b[0m\u001b[0m\n\u001b[1;32m      7\u001b[0m \u001b[0;34m\u001b[0m\u001b[0m\n\u001b[0;32m----> 8\u001b[0;31m \u001b[0;32mfor\u001b[0m \u001b[0mgene_name\u001b[0m \u001b[0;32min\u001b[0m \u001b[0mgene_database\u001b[0m\u001b[0;34m:\u001b[0m\u001b[0;34m\u001b[0m\u001b[0;34m\u001b[0m\u001b[0m\n\u001b[0m\u001b[1;32m      9\u001b[0m     \u001b[0mlength\u001b[0m \u001b[0;34m=\u001b[0m \u001b[0mgene_database\u001b[0m\u001b[0;34m[\u001b[0m\u001b[0mgene_name\u001b[0m\u001b[0;34m]\u001b[0m\u001b[0;34m[\u001b[0m\u001b[0;34m\"length\"\u001b[0m\u001b[0;34m]\u001b[0m\u001b[0;34m\u001b[0m\u001b[0;34m\u001b[0m\u001b[0m\n\u001b[1;32m     10\u001b[0m     \u001b[0;32mif\u001b[0m \u001b[0mlength\u001b[0m \u001b[0;34m>\u001b[0m \u001b[0mlongest_length\u001b[0m\u001b[0;34m:\u001b[0m\u001b[0;34m\u001b[0m\u001b[0;34m\u001b[0m\u001b[0m\n",
            "\u001b[0;31mNameError\u001b[0m: name 'gene_database' is not defined"
          ]
        }
      ]
    },
    {
      "cell_type": "code",
      "source": [
        "# Working with multiple sequences like a real FASTA file\n",
        "print(\"Learning to handle FASTA-like biological data\")\n",
        "\n",
        "# I'll simulate what a real FASTA file might look like\n",
        "fasta_text = \"\"\"\n",
        ">gene1_insulin_human\n",
        "ATGAAGTGCAACCTGCTGGTGCTGTTCCTGGGGCTCTTCCTGTTCGCCTTCCTGGGCATG\n",
        "CCCAAGTACCCGGGCCTGTTCCTGCACATCGTCAAGGTGGAGCGCACCGTGGTGGACCTG\n",
        "\n",
        ">gene2_hemoglobin_human\n",
        "ATGGTGCTGTCTCCTGCCGACAAGACCAACGTCAAGGCCGCCTGGGGTAAGGTCGGCGCG\n",
        "CACGCTGGCGAGTATGGTGCGGAGGCCCTGGAGAGGTTGAAGGTGGATGCCAAGAAGCTG\n",
        "\n",
        ">gene3_short_test\n",
        "ATGAAATAG\n",
        "\n",
        ">gene4_no_start_codon\n",
        "GCTAGCTAGCTAGCTAGCTAGCTAGCTAG\n",
        "\"\"\"\n",
        "\n",
        "# I need to parse this data - separate headers from sequences\n",
        "sequences_from_fasta = {}  # dictionary to store parsed data\n",
        "\n",
        "# split the text into lines and process each line\n",
        "lines = fasta_text.strip().split('\\n')\n",
        "\n",
        "current_header = \"\"\n",
        "current_sequence = \"\"\n",
        "\n",
        "for line in lines:\n",
        "    line = line.strip()  # remove extra spaces\n",
        "\n",
        "    if line.startswith('>'):  # this is a header line\n",
        "        # save the previous sequence if we have one\n",
        "        if current_header and current_sequence:\n",
        "            sequences_from_fasta[current_header] = current_sequence\n",
        "\n",
        "        # start a new sequence\n",
        "        current_header = line[1:]  # remove the '>' character\n",
        "        current_sequence = \"\"\n",
        "\n",
        "    elif line:  # this is a sequence line (not empty)\n",
        "        current_sequence += line\n",
        "\n",
        "# don't forget the last sequence!\n",
        "if current_header and current_sequence:\n",
        "    sequences_from_fasta[current_header] = current_sequence\n",
        "\n",
        "print(f\"Parsed {len(sequences_from_fasta)} sequences from FASTA data\")\n",
        "for header in sequences_from_fasta:\n",
        "    sequence = sequences_from_fasta[header]\n",
        "    print(f\"{header}: {len(sequence)} bp\")"
      ],
      "metadata": {
        "colab": {
          "base_uri": "https://localhost:8080/"
        },
        "id": "Ueg9h5bxGRnK",
        "outputId": "430e0bd3-5df2-4066-aba0-6c232190b969"
      },
      "execution_count": 8,
      "outputs": [
        {
          "output_type": "stream",
          "name": "stdout",
          "text": [
            "Learning to handle FASTA-like biological data\n",
            "Parsed 4 sequences from FASTA data\n",
            "gene1_insulin_human: 120 bp\n",
            "gene2_hemoglobin_human: 120 bp\n",
            "gene3_short_test: 9 bp\n",
            "gene4_no_start_codon: 29 bp\n"
          ]
        }
      ]
    },
    {
      "cell_type": "code",
      "source": [
        "# Now I want to analyze all these sequences\n",
        "print(\"\\nAnalyzing all sequences from my FASTA-like data:\")\n",
        "\n",
        "analysis_results = {}  # store results here\n",
        "\n",
        "for header in sequences_from_fasta:\n",
        "    sequence = sequences_from_fasta[header]\n",
        "\n",
        "    print(f\"\\nAnalyzing: {header}\")\n",
        "\n",
        "    # basic analysis\n",
        "    length = len(sequence)\n",
        "\n",
        "    # count nucleotides\n",
        "    a_count = sequence.count('A')\n",
        "    t_count = sequence.count('T')\n",
        "    g_count = sequence.count('G')\n",
        "    c_count = sequence.count('C')\n",
        "\n",
        "    # calculate GC content\n",
        "    gc_content = (g_count + c_count) / length * 100 if length > 0 else 0\n",
        "\n",
        "    # look for start and stop codons\n",
        "    has_start = 'ATG' in sequence\n",
        "    stop_codons = ['TAA', 'TAG', 'TGA']\n",
        "    has_stop = any(stop in sequence for stop in stop_codons)\n",
        "\n",
        "    # store results\n",
        "    analysis_results[header] = {\n",
        "        'sequence': sequence,\n",
        "        'length': length,\n",
        "        'composition': {'A': a_count, 'T': t_count, 'G': g_count, 'C': c_count},\n",
        "        'gc_content': gc_content,\n",
        "        'has_start_codon': has_start,\n",
        "        'has_stop_codon': has_stop\n",
        "    }\n",
        "\n",
        "    print(f\"  Length: {length} bp\")\n",
        "    print(f\"  GC content: {gc_content:.1f}%\")\n",
        "    print(f\"  Start codon: {has_start}, Stop codon: {has_stop}\")"
      ],
      "metadata": {
        "colab": {
          "base_uri": "https://localhost:8080/"
        },
        "id": "xHlUIgEnGUPI",
        "outputId": "d37d69d3-3cd4-4a06-8209-1d1acc62b300"
      },
      "execution_count": 9,
      "outputs": [
        {
          "output_type": "stream",
          "name": "stdout",
          "text": [
            "\n",
            "Analyzing all sequences from my FASTA-like data:\n",
            "\n",
            "Analyzing: gene1_insulin_human\n",
            "  Length: 120 bp\n",
            "  GC content: 61.7%\n",
            "  Start codon: True, Stop codon: True\n",
            "\n",
            "Analyzing: gene2_hemoglobin_human\n",
            "  Length: 120 bp\n",
            "  GC content: 63.3%\n",
            "  Start codon: True, Stop codon: True\n",
            "\n",
            "Analyzing: gene3_short_test\n",
            "  Length: 9 bp\n",
            "  GC content: 22.2%\n",
            "  Start codon: True, Stop codon: True\n",
            "\n",
            "Analyzing: gene4_no_start_codon\n",
            "  Length: 29 bp\n",
            "  GC content: 51.7%\n",
            "  Start codon: False, Stop codon: True\n"
          ]
        }
      ]
    },
    {
      "cell_type": "code",
      "source": [
        "# Finding ORFs in my sequences using what I learned\n",
        "print(\"Looking for Open Reading Frames (ORFs) in my sequences\")\n",
        "\n",
        "def find_simple_orfs(sequence):\n",
        "    \"\"\"Find ORFs in a sequence - my own implementation\"\"\"\n",
        "\n",
        "    orfs_found = []  # list to store ORFs\n",
        "    sequence = sequence.upper()\n",
        "\n",
        "    # I'll check each reading frame (0, 1, 2)\n",
        "    for frame in range(3):\n",
        "        print(f\"  Checking reading frame {frame + 1}\")\n",
        "\n",
        "        # look for start codons in this frame\n",
        "        for pos in range(frame, len(sequence) - 2, 3):\n",
        "            codon = sequence[pos:pos + 3]\n",
        "\n",
        "            if codon == 'ATG':  # found start codon\n",
        "                print(f\"    Found start codon at position {pos + 1}\")\n",
        "\n",
        "                # now look for stop codon\n",
        "                for stop_pos in range(pos + 3, len(sequence) - 2, 3):\n",
        "                    stop_codon = sequence[stop_pos:stop_pos + 3]\n",
        "\n",
        "                    if stop_codon in ['TAA', 'TAG', 'TGA']:  # found stop\n",
        "                        orf_length = stop_pos + 3 - pos\n",
        "                        orf_sequence = sequence[pos:stop_pos + 3]\n",
        "\n",
        "                        # only keep ORFs that are reasonably long\n",
        "                        if orf_length >= 30:  # at least 10 amino acids\n",
        "                            orf_info = {\n",
        "                                'frame': frame + 1,\n",
        "                                'start': pos + 1,  # biology uses 1-based numbering\n",
        "                                'stop': stop_pos + 3,\n",
        "                                'length': orf_length,\n",
        "                                'sequence': orf_sequence\n",
        "                            }\n",
        "                            orfs_found.append(orf_info)\n",
        "                            print(f\"    Found ORF: {orf_length} bp long\")\n",
        "\n",
        "                        break  # stop looking after first stop codon\n",
        "\n",
        "    return orfs_found\n",
        "\n",
        "# test my ORF finder on my sequences\n",
        "for header in sequences_from_fasta:\n",
        "    sequence = sequences_from_fasta[header]\n",
        "    print(f\"\\nLooking for ORFs in {header}:\")\n",
        "\n",
        "    orfs = find_simple_orfs(sequence)\n",
        "    analysis_results[header]['orfs'] = orfs\n",
        "\n",
        "    print(f\"Found {len(orfs)} ORFs\")\n",
        "    for i, orf in enumerate(orfs):\n",
        "        print(f\"  ORF {i+1}: {orf['length']} bp (frame {orf['frame']}, pos {orf['start']}-{orf['stop']})\")"
      ],
      "metadata": {
        "colab": {
          "base_uri": "https://localhost:8080/"
        },
        "id": "dGsHmeilGWig",
        "outputId": "d858a1b1-0777-4f3c-a548-eb4d11c39db4"
      },
      "execution_count": 10,
      "outputs": [
        {
          "output_type": "stream",
          "name": "stdout",
          "text": [
            "Looking for Open Reading Frames (ORFs) in my sequences\n",
            "\n",
            "Looking for ORFs in gene1_insulin_human:\n",
            "  Checking reading frame 1\n",
            "    Found start codon at position 1\n",
            "    Found start codon at position 58\n",
            "  Checking reading frame 2\n",
            "  Checking reading frame 3\n",
            "Found 0 ORFs\n",
            "\n",
            "Looking for ORFs in gene2_hemoglobin_human:\n",
            "  Checking reading frame 1\n",
            "    Found start codon at position 1\n",
            "  Checking reading frame 2\n",
            "    Found start codon at position 74\n",
            "    Found start codon at position 107\n",
            "  Checking reading frame 3\n",
            "Found 0 ORFs\n",
            "\n",
            "Looking for ORFs in gene3_short_test:\n",
            "  Checking reading frame 1\n",
            "    Found start codon at position 1\n",
            "  Checking reading frame 2\n",
            "  Checking reading frame 3\n",
            "Found 0 ORFs\n",
            "\n",
            "Looking for ORFs in gene4_no_start_codon:\n",
            "  Checking reading frame 1\n",
            "  Checking reading frame 2\n",
            "  Checking reading frame 3\n",
            "Found 0 ORFs\n"
          ]
        }
      ]
    },
    {
      "cell_type": "code",
      "source": [
        "# Creating a summary of all my analysis results\n",
        "print(\"Creating a summary report of my sequence analysis\")\n",
        "\n",
        "print(\"\\n\" + \"=\"*50)\n",
        "print(\"SEQUENCE ANALYSIS SUMMARY REPORT\")\n",
        "print(\"=\"*50)\n",
        "\n",
        "# collect some statistics\n",
        "total_sequences = len(analysis_results)\n",
        "total_length = 0\n",
        "total_orfs = 0\n",
        "gc_contents = []\n",
        "\n",
        "print(f\"Total sequences analyzed: {total_sequences}\")\n",
        "\n",
        "for header in analysis_results:\n",
        "    result = analysis_results[header]\n",
        "    total_length += result['length']\n",
        "    total_orfs += len(result['orfs'])\n",
        "    gc_contents.append(result['gc_content'])\n",
        "\n",
        "print(f\"Total sequence length: {total_length} bp\")\n",
        "print(f\"Average sequence length: {total_length / total_sequences:.1f} bp\")\n",
        "print(f\"Total ORFs found: {total_orfs}\")\n",
        "\n",
        "# calculate average GC content\n",
        "average_gc = sum(gc_contents) / len(gc_contents)\n",
        "print(f\"Average GC content: {average_gc:.1f}%\")\n",
        "\n",
        "# find sequences with interesting properties\n",
        "print(\"\\nSequences with interesting properties:\")\n",
        "\n",
        "for header in analysis_results:\n",
        "    result = analysis_results[header]\n",
        "\n",
        "    interesting = []\n",
        "\n",
        "    if result['gc_content'] > 60:\n",
        "        interesting.append(\"high GC\")\n",
        "    if result['gc_content'] < 30:\n",
        "        interesting.append(\"low GC\")\n",
        "    if len(result['orfs']) > 1:\n",
        "        interesting.append(\"multiple ORFs\")\n",
        "    if result['length'] > 100:\n",
        "        interesting.append(\"long sequence\")\n",
        "    if not result['has_start_codon']:\n",
        "        interesting.append(\"no start codon\")\n",
        "\n",
        "    if interesting:\n",
        "        print(f\"  {header}: {', '.join(interesting)}\")"
      ],
      "metadata": {
        "colab": {
          "base_uri": "https://localhost:8080/"
        },
        "id": "8xXHjM3ZGZG3",
        "outputId": "428ba6e5-1b2f-4651-992d-398066f4982e"
      },
      "execution_count": 11,
      "outputs": [
        {
          "output_type": "stream",
          "name": "stdout",
          "text": [
            "Creating a summary report of my sequence analysis\n",
            "\n",
            "==================================================\n",
            "SEQUENCE ANALYSIS SUMMARY REPORT\n",
            "==================================================\n",
            "Total sequences analyzed: 4\n",
            "Total sequence length: 278 bp\n",
            "Average sequence length: 69.5 bp\n",
            "Total ORFs found: 0\n",
            "Average GC content: 49.7%\n",
            "\n",
            "Sequences with interesting properties:\n",
            "  gene1_insulin_human: high GC, long sequence\n",
            "  gene2_hemoglobin_human: high GC, long sequence\n",
            "  gene3_short_test: low GC\n",
            "  gene4_no_start_codon: no start codon\n"
          ]
        }
      ]
    },
    {
      "cell_type": "code",
      "source": [
        "# Creating a detailed report for each sequence\n",
        "print(\"\\nDETAILED SEQUENCE REPORTS:\")\n",
        "print(\"-\" * 30)\n",
        "\n",
        "for header in analysis_results:\n",
        "    result = analysis_results[header]\n",
        "\n",
        "    print(f\"\\nSequence: {header}\")\n",
        "    print(f\"Length: {result['length']} bp\")\n",
        "\n",
        "    # composition\n",
        "    comp = result['composition']\n",
        "    print(f\"Composition: A:{comp['A']} T:{comp['T']} G:{comp['G']} C:{comp['C']}\")\n",
        "\n",
        "    # percentages\n",
        "    length = result['length']\n",
        "    if length > 0:\n",
        "        a_pct = comp['A'] / length * 100\n",
        "        t_pct = comp['T'] / length * 100\n",
        "        g_pct = comp['G'] / length * 100\n",
        "        c_pct = comp['C'] / length * 100\n",
        "        print(f\"Percentages: A:{a_pct:.1f}% T:{t_pct:.1f}% G:{g_pct:.1f}% C:{c_pct:.1f}%\")\n",
        "\n",
        "    print(f\"GC content: {result['gc_content']:.1f}%\")\n",
        "    print(f\"Has start codon: {result['has_start_codon']}\")\n",
        "    print(f\"Has stop codon: {result['has_stop_codon']}\")\n",
        "    print(f\"ORFs found: {len(result['orfs'])}\")\n",
        "\n",
        "    # show ORF details\n",
        "    if result['orfs']:\n",
        "        print(\"ORF details:\")\n",
        "        for i, orf in enumerate(result['orfs']):\n",
        "            amino_acids = orf['length'] // 3\n",
        "            print(f\"  ORF {i+1}: {orf['length']} bp ({amino_acids} amino acids), frame {orf['frame']}\")"
      ],
      "metadata": {
        "colab": {
          "base_uri": "https://localhost:8080/"
        },
        "id": "jxdTbte4Gb1Q",
        "outputId": "c67fe672-273d-47c4-cbef-c50182bb7541"
      },
      "execution_count": 12,
      "outputs": [
        {
          "output_type": "stream",
          "name": "stdout",
          "text": [
            "\n",
            "DETAILED SEQUENCE REPORTS:\n",
            "------------------------------\n",
            "\n",
            "Sequence: gene1_insulin_human\n",
            "Length: 120 bp\n",
            "Composition: A:16 T:30 G:37 C:37\n",
            "Percentages: A:13.3% T:25.0% G:30.8% C:30.8%\n",
            "GC content: 61.7%\n",
            "Has start codon: True\n",
            "Has stop codon: True\n",
            "ORFs found: 0\n",
            "\n",
            "Sequence: gene2_hemoglobin_human\n",
            "Length: 120 bp\n",
            "Composition: A:24 T:20 G:47 C:29\n",
            "Percentages: A:20.0% T:16.7% G:39.2% C:24.2%\n",
            "GC content: 63.3%\n",
            "Has start codon: True\n",
            "Has stop codon: True\n",
            "ORFs found: 0\n",
            "\n",
            "Sequence: gene3_short_test\n",
            "Length: 9 bp\n",
            "Composition: A:5 T:2 G:2 C:0\n",
            "Percentages: A:55.6% T:22.2% G:22.2% C:0.0%\n",
            "GC content: 22.2%\n",
            "Has start codon: True\n",
            "Has stop codon: True\n",
            "ORFs found: 0\n",
            "\n",
            "Sequence: gene4_no_start_codon\n",
            "Length: 29 bp\n",
            "Composition: A:7 T:7 G:8 C:7\n",
            "Percentages: A:24.1% T:24.1% G:27.6% C:24.1%\n",
            "GC content: 51.7%\n",
            "Has start codon: False\n",
            "Has stop codon: True\n",
            "ORFs found: 0\n"
          ]
        }
      ]
    },
    {
      "cell_type": "code",
      "source": [
        "# What I learned today - Day 5 summary\n",
        "print(\"\\n\" + \"=\"*50)\n",
        "print(\"DAY 5 LEARNING SUMMARY\")\n",
        "print(\"=\"*50)\n",
        "\n",
        "print(\"\\nPython skills I practiced today:\")\n",
        "python_skills = [\n",
        "    \"Working with lists of biological sequences\",\n",
        "    \"Using dictionaries to organize gene information\",\n",
        "    \"Parsing FASTA-like data format\",\n",
        "    \"Building nested data structures\",\n",
        "    \"Using loops to process multiple sequences\",\n",
        "    \"Creating functions for repetitive tasks\",\n",
        "    \"Organizing analysis results\"\n",
        "]\n",
        "\n",
        "for skill in python_skills:\n",
        "    print(f\"- {skill}\")\n",
        "\n",
        "print(\"\\nBioinformatics concepts I learned:\")\n",
        "bio_concepts = [\n",
        "    \"Handling multiple gene sequences at once\",\n",
        "    \"FASTA format structure and parsing\",\n",
        "    \"ORF finding across multiple reading frames\",\n",
        "    \"Batch analysis of sequence data\",\n",
        "    \"Statistical summaries of sequence properties\",\n",
        "    \"Data organization for biological research\"\n",
        "]\n",
        "\n",
        "for concept in bio_concepts:\n",
        "    print(f\"- {concept}\")\n",
        "\n",
        "print(\"\\nChallenges I worked through:\")\n",
        "challenges = [\n",
        "    \"Parsing multi-line FASTA format correctly\",\n",
        "    \"Keeping track of multiple pieces of information per sequence\",\n",
        "    \"Finding ORFs in different reading frames\",\n",
        "    \"Calculating statistics across multiple sequences\",\n",
        "    \"Organizing results in a clear way\"\n",
        "]\n",
        "\n",
        "for challenge in challenges:\n",
        "    print(f\"- {challenge}\")\n",
        "\n",
        "print(f\"\\nProgress: 5/56 days completed ({5/56*100:.1f}%)\")\n",
        "print(\"Tomorrow I want to learn about Pandas for handling bigger datasets!\")\n",
        "\n",
        "# Some things I want to improve\n",
        "print(\"\\nThings I want to get better at:\")\n",
        "improvements = [\n",
        "    \"Making my code more efficient\",\n",
        "    \"Better error handling when sequences have problems\",\n",
        "    \"More sophisticated statistical analysis\",\n",
        "    \"Working with even larger datasets\"\n",
        "]\n",
        "\n",
        "for improvement in improvements:\n",
        "    print(f\"- {improvement}\")"
      ],
      "metadata": {
        "colab": {
          "base_uri": "https://localhost:8080/"
        },
        "id": "h3xHer5aGfGH",
        "outputId": "07b30aef-9479-4c3f-d4a5-93f69563df62"
      },
      "execution_count": 13,
      "outputs": [
        {
          "output_type": "stream",
          "name": "stdout",
          "text": [
            "\n",
            "==================================================\n",
            "DAY 5 LEARNING SUMMARY\n",
            "==================================================\n",
            "\n",
            "Python skills I practiced today:\n",
            "- Working with lists of biological sequences\n",
            "- Using dictionaries to organize gene information\n",
            "- Parsing FASTA-like data format\n",
            "- Building nested data structures\n",
            "- Using loops to process multiple sequences\n",
            "- Creating functions for repetitive tasks\n",
            "- Organizing analysis results\n",
            "\n",
            "Bioinformatics concepts I learned:\n",
            "- Handling multiple gene sequences at once\n",
            "- FASTA format structure and parsing\n",
            "- ORF finding across multiple reading frames\n",
            "- Batch analysis of sequence data\n",
            "- Statistical summaries of sequence properties\n",
            "- Data organization for biological research\n",
            "\n",
            "Challenges I worked through:\n",
            "- Parsing multi-line FASTA format correctly\n",
            "- Keeping track of multiple pieces of information per sequence\n",
            "- Finding ORFs in different reading frames\n",
            "- Calculating statistics across multiple sequences\n",
            "- Organizing results in a clear way\n",
            "\n",
            "Progress: 5/56 days completed (8.9%)\n",
            "Tomorrow I want to learn about Pandas for handling bigger datasets!\n",
            "\n",
            "Things I want to get better at:\n",
            "- Making my code more efficient\n",
            "- Better error handling when sequences have problems\n",
            "- More sophisticated statistical analysis\n",
            "- Working with even larger datasets\n"
          ]
        }
      ]
    }
  ]
}